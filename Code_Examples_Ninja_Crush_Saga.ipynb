{
 "cells": [
  {
   "cell_type": "markdown",
   "id": "ce0664e9",
   "metadata": {},
   "source": [
    "# Ninja Crush Saga, Game App Pricing Optimization\n",
    "This notebook demonstrates key steps in computing optimal pricing strategies for a game app using real user data."
   ]
  },
  {
   "cell_type": "markdown",
   "id": "221b4d0f",
   "metadata": {},
   "source": [
    "## Example 1: Optimal Flat Price Calculation\n",
    "Compute the best single price for all users to maximize total expected revenue."
   ]
  },
  {
   "cell_type": "code",
   "execution_count": null,
   "id": "71204365",
   "metadata": {},
   "outputs": [],
   "source": [
    "\n",
    "import numpy as np\n",
    "\n",
    "price_range = np.arange(2, 13, 0.5)\n",
    "revenues = []\n",
    "\n",
    "player_base = 100_000  # Simulated total user base\n",
    "\n",
    "for p in price_range:\n",
    "    purchase_prob = (df['Price'] >= p).mean()\n",
    "    revenue = purchase_prob * p * player_base\n",
    "    revenues.append(revenue)\n",
    "\n",
    "optimal_price = price_range[np.argmax(revenues)]\n",
    "print(f\" Optimal Flat Price: ${optimal_price:.2f}\")\n"
   ]
  },
  {
   "cell_type": "markdown",
   "id": "24e37b13",
   "metadata": {},
   "source": [
    "## Example 2: Player Segmentation with K-Means Clustering\n",
    "Use K-Means to cluster users into behavioral groups for personalized pricing."
   ]
  },
  {
   "cell_type": "code",
   "execution_count": null,
   "id": "8c63db65",
   "metadata": {},
   "outputs": [],
   "source": [
    "\n",
    "from sklearn.preprocessing import StandardScaler\n",
    "from sklearn.cluster import KMeans\n",
    "\n",
    "scaler = StandardScaler()\n",
    "X_scaled = scaler.fit_transform(df)\n",
    "\n",
    "kmeans = KMeans(n_clusters=3, random_state=42, n_init=10)\n",
    "df[\"cluster\"] = kmeans.fit_predict(X_scaled)\n",
    "\n",
    "print(df[\"cluster\"].value_counts())\n"
   ]
  },
  {
   "cell_type": "markdown",
   "id": "f67f1ccc",
   "metadata": {},
   "source": [
    "## Example 3: Cluster-Specific Revenue Maximization\n",
    "Find the best price for each segment to increase revenue."
   ]
  },
  {
   "cell_type": "code",
   "execution_count": null,
   "id": "ab2897f4",
   "metadata": {},
   "outputs": [],
   "source": [
    "\n",
    "best_price = {}\n",
    "best_revenue = {}\n",
    "price_range = np.arange(2, 13, 0.5)\n",
    "\n",
    "for c in df[\"cluster\"].unique():\n",
    "    sub = df[df[\"cluster\"] == c]\n",
    "    weight = len(sub) / len(df)\n",
    "    cluster_size = player_base * weight\n",
    "\n",
    "    cluster_revenue = []\n",
    "    for p in price_range:\n",
    "        prob = (sub[\"Price\"] >= p).mean()\n",
    "        rev = prob * p * cluster_size\n",
    "        cluster_revenue.append(rev)\n",
    "\n",
    "    best_price[c] = price_range[np.argmax(cluster_revenue)]\n",
    "    best_revenue[c] = max(cluster_revenue)\n",
    "\n",
    "print(\"Cluster Optimal Prices:\", best_price)\n",
    "print(\"Cluster Revenues:\", {k: round(v, 2) for k, v in best_revenue.items()})\n"
   ]
  },
  {
   "cell_type": "markdown",
   "id": "a6b59ef1",
   "metadata": {},
   "source": [
    "## Example 4: Revenue Lift from Personalized Pricing\n",
    "Compare personalized pricing revenue to the flat price strategy."
   ]
  },
  {
   "cell_type": "code",
   "execution_count": null,
   "id": "92b66676",
   "metadata": {},
   "outputs": [],
   "source": [
    "\n",
    "total_personalized_revenue = sum(best_revenue.values())\n",
    "revenue_lift = total_personalized_revenue - max(revenues)\n",
    "\n",
    "print(f\"Revenue Lift: ${revenue_lift:,.2f}\")\n"
   ]
  }
 ],
 "metadata": {
  "language_info": {
   "name": "python"
  }
 },
 "nbformat": 4,
 "nbformat_minor": 5
}
