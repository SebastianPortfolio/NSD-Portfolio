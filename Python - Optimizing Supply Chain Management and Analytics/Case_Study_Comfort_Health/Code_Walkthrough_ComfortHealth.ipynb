{
 "cells": [
  {
   "cell_type": "markdown",
   "id": "1e227b5b",
   "metadata": {},
   "source": [
    "# ComfortHealth Strategic Plan Optimization – Code Examples"
   ]
  },
  {
   "cell_type": "markdown",
   "id": "da773a97",
   "metadata": {},
   "source": [
    "## 1. Demand Forecasting"
   ]
  },
  {
   "cell_type": "code",
   "execution_count": null,
   "id": "04371b76",
   "metadata": {},
   "outputs": [],
   "source": [
    "growth_rate = (recent_demands.iloc[-1] - recent_demands.iloc[0]) / (recent_years.iloc[-1] - recent_years.iloc[0])\n",
    "forecasted_demand = last_demand + growth_rate * years_since_last"
   ]
  },
  {
   "cell_type": "markdown",
   "id": "3cd1a32b",
   "metadata": {},
   "source": [
    "I implemented a simple linear forecasting model to project regional healthcare demand based on past trends. This gave us a realistic input for the optimization and ensured scalability planning aligned with demographic shifts."
   ]
  },
  {
   "cell_type": "markdown",
   "id": "987cda06",
   "metadata": {},
   "source": [
    "## 2. Objective Function – Maximize Net Profit"
   ]
  },
  {
   "cell_type": "code",
   "execution_count": null,
   "id": "003233ab",
   "metadata": {},
   "outputs": [],
   "source": [
    "model += pulp.lpSum([\n",
    "    demands.loc[(demands['Region'] == j) & (demands['Year'] == y), 'Demand'].values[0] * (\n",
    "        42 - 37.85 * (1.025 ** (y - 2023)) -\n",
    "        distances.loc[(distances['origin'] == i) & (distances['destination'] == j), 'distance'].values[0] * 0.25\n",
    "    ) * w[i, j, y]\n",
    "    for i in centers_list for j in regions_list for y in forecast_years\n",
    "]) - pulp.lpSum([\n",
    "    hiring_cost * H[i, y] + centers.loc[centers['Center'] == i, 'Operating Costs'].values[0] * O[i, y]\n",
    "    for i in centers_list for y in forecast_years\n",
    "])"
   ]
  },
  {
   "cell_type": "markdown",
   "id": "1a023fdf",
   "metadata": {},
   "source": [
    "I constructed a detailed profit function combining hourly reimbursements, annual salary increases, distance-based travel costs, hiring expenses, and center operating costs. This allowed us to objectively evaluate the trade-offs between expansion and profitability."
   ]
  },
  {
   "cell_type": "markdown",
   "id": "ccd6dc09",
   "metadata": {},
   "source": [
    "## 3. Workforce Availability Constraint"
   ]
  },
  {
   "cell_type": "code",
   "execution_count": null,
   "id": "3af2f792",
   "metadata": {},
   "outputs": [],
   "source": [
    "model += pulp.lpSum([\n",
    "    demands.loc[(demands['Region'] == j) & (demands['Year'] == y), 'Demand'].values[0] * w[i, j, y]\n",
    "    for j in regions_list\n",
    "]) <= annual_hp_hours * (initial_hp + pulp.lpSum([H[i, yy] for yy in forecast_years if yy <= y]))"
   ]
  },
  {
   "cell_type": "markdown",
   "id": "d639bb81",
   "metadata": {},
   "source": [
    "I encoded workforce constraints to ensure no center was assigned more demand than its staff could handle, dynamically accounting for cumulative hiring over time."
   ]
  },
  {
   "cell_type": "markdown",
   "id": "8f137af3",
   "metadata": {},
   "source": [
    "## 4. Capacity and Operational Constraints"
   ]
  },
  {
   "cell_type": "code",
   "execution_count": null,
   "id": "8ee8cb80",
   "metadata": {},
   "outputs": [],
   "source": [
    "model += pulp.lpSum([\n",
    "    demands.loc[(demands['Region'] == j) & (demands['Year'] == y), 'Demand'].values[0] * w[i, j, y]\n",
    "    for j in regions_list\n",
    "]) <= capacity * O[i, y]"
   ]
  },
  {
   "cell_type": "markdown",
   "id": "b7f221dd",
   "metadata": {},
   "source": [
    "This constraint ensured that only open centers could serve patients and never beyond their operational capacity, reinforcing realistic and cost-conscious planning."
   ]
  },
  {
   "cell_type": "markdown",
   "id": "96e3a24d",
   "metadata": {},
   "source": [
    "## 5. Binary and Integer Decision Variables"
   ]
  },
  {
   "cell_type": "code",
   "execution_count": null,
   "id": "5df21eaa",
   "metadata": {},
   "outputs": [],
   "source": [
    "w = pulp.LpVariable.dicts('w', [...], cat='Binary')  # Region allocation\n",
    "H = pulp.LpVariable.dicts('H', [...], lowBound=0, cat='Integer')  # Number of HPs hired\n",
    "O = pulp.LpVariable.dicts('O', [...], cat='Binary')  # Center operational status"
   ]
  },
  {
   "cell_type": "markdown",
   "id": "64bd7663",
   "metadata": {},
   "source": [
    "I structured the problem with binary and integer decision variables, reflecting real-world decisions like whether to open a center, how many people to hire, and which center should serve each region."
   ]
  }
 ],
 "metadata": {
  "language_info": {
   "name": "python"
  }
 },
 "nbformat": 4,
 "nbformat_minor": 5
}
