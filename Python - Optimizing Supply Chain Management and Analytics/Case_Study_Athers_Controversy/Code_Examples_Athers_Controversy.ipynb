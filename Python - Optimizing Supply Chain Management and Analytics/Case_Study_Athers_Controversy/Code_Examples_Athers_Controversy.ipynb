{
 "cells": [
  {
   "cell_type": "markdown",
   "id": "d8f9a994",
   "metadata": {},
   "source": [
    "# Code Examples from Inventory Optimization Project – Athers Food Inc."
   ]
  },
  {
   "cell_type": "markdown",
   "id": "368664ea",
   "metadata": {},
   "source": [
    "## 1. Simulating Non-Stationary Daily Demand"
   ]
  },
  {
   "cell_type": "code",
   "execution_count": null,
   "id": "704f9e6a",
   "metadata": {},
   "outputs": [],
   "source": [
    "base_demand = nbinom.rvs(r, p)\n",
    "holiday_increase = 70 if date.month in holiday_months else 0\n",
    "yearly_increase = 10 * (year - 2019)\n",
    "total_demand = base_demand + holiday_increase + yearly_increase"
   ]
  },
  {
   "cell_type": "markdown",
   "id": "23cbdf69",
   "metadata": {},
   "source": [
    "**Explanation:**\n",
    "I modeled daily product demand using a Negative Binomial distribution to reflect high-variance, discrete consumer purchasing. I enhanced realism by incorporating seasonal spikes (holidays) and \n",
    "trend growth to reflect expanding sales from marketing and new distribution agreements."
   ]
  },
  {
   "cell_type": "markdown",
   "id": "f83e737e",
   "metadata": {},
   "source": [
    "## 2. Reverse Engineering the Current Inventory Policy"
   ]
  },
  {
   "cell_type": "code",
   "execution_count": null,
   "id": "70c7c79d",
   "metadata": {},
   "outputs": [],
   "source": [
    "inventory_df['prev_inventory'] = inventory_df['inventory'].shift(1)\n",
    "inventory_df['inventory_change'] = inventory_df['inventory'] - inventory_df['prev_inventory']\n",
    "inventory_df['production_arrival'] = inventory_df['inventory_change'] > 0"
   ]
  },
  {
   "cell_type": "markdown",
   "id": "553d7c2e",
   "metadata": {},
   "source": [
    "**Explanation:**\n",
    "By analyzing changes in inventory levels, I inferred when new stock arrived. This allowed me to reconstruct the company's existing replenishment policy, monthly batches with a 9-day lead time—and demonstrate its limitations in adapting to changing demand."
   ]
  },
  {
   "cell_type": "markdown",
   "id": "390dc7a0",
   "metadata": {},
   "source": [
    "## 3. EOQ Calculation"
   ]
  },
  {
   "cell_type": "code",
   "execution_count": null,
   "id": "7691d853",
   "metadata": {},
   "outputs": [],
   "source": [
    "EOQ = int(np.sqrt((2 * D * setup_cost) / holding_cost_annual))"
   ]
  },
  {
   "cell_type": "markdown",
   "id": "ee44c8e5",
   "metadata": {},
   "source": [
    "**Explanation:**\n",
    "I applied the classic EOQ formula to determine optimal order quantities that minimize total inventory costs. This provided a benchmark to compare the efficiency of different policies against the current fixed-order approach."
   ]
  },
  {
   "cell_type": "markdown",
   "id": "a8f920c0",
   "metadata": {},
   "source": [
    "## 4. Simulating EOQ Policy with Lead Time"
   ]
  },
  {
   "cell_type": "code",
   "execution_count": null,
   "id": "cb3f5070",
   "metadata": {},
   "outputs": [],
   "source": [
    "if inventory <= reorder_point and not any(x[0] > date for x in pending_orders):\n",
    "    arrival = date + pd.Timedelta(days=delay)\n",
    "    pending_orders.append((arrival, eoq))"
   ]
  },
  {
   "cell_type": "markdown",
   "id": "98ec2d35",
   "metadata": {},
   "source": [
    "**Explanation:**\n",
    "I incorporated a 9-day lead time into my simulation to ensure orders are placed in advance, and only when necessary. This prevented over-ordering while replicating real-world logistics and production cycles."
   ]
  },
  {
   "cell_type": "markdown",
   "id": "57ac783c",
   "metadata": {},
   "source": [
    "## 5. Safety Stock Trade-off Simulation"
   ]
  },
  {
   "cell_type": "code",
   "execution_count": null,
   "id": "e4c09ab8",
   "metadata": {},
   "outputs": [],
   "source": [
    "safety_stock = Z * std_d * np.sqrt(L)\n",
    "reorder_point = mean_d * L + safety_stock"
   ]
  },
  {
   "cell_type": "markdown",
   "id": "19bf6d2d",
   "metadata": {},
   "source": [
    "**Explanation:**\n",
    "I calculated safety stock using the standard formula to maintain a 90% service level. This allowed me to simulate risk-adjusted inventory strategies, balancing stockout risk and total profit."
   ]
  },
  {
   "cell_type": "markdown",
   "id": "d72b95e3",
   "metadata": {},
   "source": [
    "## 6. Dynamic Continuous Review Policy"
   ]
  },
  {
   "cell_type": "code",
   "execution_count": null,
   "id": "488ab12f",
   "metadata": {},
   "outputs": [],
   "source": [
    "order_qty = max(0, (ROP + SS) - inventory)"
   ]
  },
  {
   "cell_type": "markdown",
   "id": "dae5bebe",
   "metadata": {},
   "source": [
    "**Explanation:**\n",
    "I implemented a flexible inventory policy where order quantities and timing are adaptive. This model tracks real-time inventory and triggers replenishment only when needed, making it ideal for volatile demand environments."
   ]
  }
 ],
 "metadata": {
  "language_info": {
   "name": "python"
  }
 },
 "nbformat": 4,
 "nbformat_minor": 5
}
