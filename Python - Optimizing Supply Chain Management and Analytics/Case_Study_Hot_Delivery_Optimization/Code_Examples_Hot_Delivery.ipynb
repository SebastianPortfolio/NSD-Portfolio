{
 "cells": [
  {
   "cell_type": "markdown",
   "id": "4af6d03c",
   "metadata": {},
   "source": [
    "# Code Examples – Hot Delivery Optimization Project"
   ]
  },
  {
   "cell_type": "markdown",
   "id": "6289705c",
   "metadata": {},
   "source": [
    "### Example 1: Basic Distance Minimization (Part I)\n",
    "This example solves a routing problem where a single driver starts at a fixed location and must pick up and drop off orders while minimizing total travel distance."
   ]
  },
  {
   "cell_type": "code",
   "execution_count": null,
   "id": "60e4d718",
   "metadata": {},
   "outputs": [],
   "source": [
    "\n",
    "# Extracting route from the solution\n",
    "edges = {(i,j): var.value() for (i,j), var in x.items() if var.value() == 1}\n",
    "succ = {i: j for (i,j) in edges}\n",
    "\n",
    "route = []\n",
    "current = 0\n",
    "while True:\n",
    "    nxt = succ.get(current)\n",
    "    if nxt is None or nxt == 0:\n",
    "        break\n",
    "    route.append((index_loc[current], index_loc[nxt]))\n",
    "    current = nxt\n",
    "\n",
    "for step, (frm, to) in enumerate(route, start=1):\n",
    "    print(f\"{step}. {frm} → {to}\")\n"
   ]
  },
  {
   "cell_type": "markdown",
   "id": "eb4a3a90",
   "metadata": {},
   "source": [
    "### Example 2: Add Time Constraints (Part II)\n",
    "This example introduces ready times and computes the arrival time at each location to ensure the driver does not arrive before the order is ready."
   ]
  },
  {
   "cell_type": "code",
   "execution_count": null,
   "id": "c7100829",
   "metadata": {},
   "outputs": [],
   "source": [
    "\n",
    "# Enforcing ready time for each pickup\n",
    "for idx, (pick_loc, ready_time) in enumerate(zip(pickup_locations, ready_times)):\n",
    "    pi = loc_index[pick_loc]\n",
    "    ready_min = (ready_time - reference_time).total_seconds() / 60\n",
    "    model += t[pi] >= ready_min\n"
   ]
  },
  {
   "cell_type": "markdown",
   "id": "7fdbd628",
   "metadata": {},
   "source": [
    "### Example 3: Compute Average Customer Wait Time\n",
    "This block ensures the average time customers wait from when the order is ready to when it is delivered does not exceed 30 minutes."
   ]
  },
  {
   "cell_type": "code",
   "execution_count": null,
   "id": "57a32092",
   "metadata": {},
   "outputs": [],
   "source": [
    "\n",
    "total_wait_time = pulp.lpSum([\n",
    "    t[loc_index[dropoff]] - ((rt - reference_time).total_seconds() / 60)\n",
    "    for dropoff, rt in zip(dropoff_locations, ready_times)\n",
    "])\n",
    "model += total_wait_time / len(pickup_locations) <= 30\n"
   ]
  },
  {
   "cell_type": "markdown",
   "id": "e4b75f7b",
   "metadata": {},
   "source": [
    "### Example 4: Multi-Driver Round-Robin Assignment (Part III)\n",
    "This snippet assigns orders to drivers in a round-robin fashion as a baseline for comparison with the optimized model."
   ]
  },
  {
   "cell_type": "code",
   "execution_count": null,
   "id": "096c8c03",
   "metadata": {},
   "outputs": [],
   "source": [
    "\n",
    "order_assignments = {d: [] for d in range(n_drivers)}\n",
    "for i, idx in enumerate(orders_df.index):\n",
    "    order_assignments[i % n_drivers].append(idx)\n"
   ]
  }
 ],
 "metadata": {
  "language_info": {
   "name": "python"
  }
 },
 "nbformat": 4,
 "nbformat_minor": 5
}
