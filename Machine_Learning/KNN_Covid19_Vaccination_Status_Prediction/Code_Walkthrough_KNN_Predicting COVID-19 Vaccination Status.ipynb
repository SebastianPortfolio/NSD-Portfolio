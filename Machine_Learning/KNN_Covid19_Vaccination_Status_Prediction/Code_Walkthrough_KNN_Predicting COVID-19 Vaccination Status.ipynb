{
 "cells": [
  {
   "cell_type": "markdown",
   "id": "3dd0c0ed",
   "metadata": {},
   "source": [
    "# **Project Overview with Code Walkthrough: COVID-19 Vaccination Classification using KNN**"
   ]
  },
  {
   "cell_type": "markdown",
   "id": "43381e9c",
   "metadata": {},
   "source": [
    "### **1. Objective**\n",
    "The goal of this project is to classify individuals into *“fully vaccinated”* or *“not fully vaccinated”* categories using survey data collected in Canada during 2022. The machine learning model is developed using the K-Nearest Neighbors (KNN) algorithm, supported by robust data preprocessing and exploratory data analysis (EDA)."
   ]
  },
  {
   "cell_type": "markdown",
   "id": "5d709d0d",
   "metadata": {},
   "source": [
    "### **2. Data Loading and Initial Inspection**"
   ]
  },
  {
   "cell_type": "markdown",
   "id": "29c7be99",
   "metadata": {},
   "source": [
    "Begin by importing the necessary libraries and loading the dataset."
   ]
  },
  {
   "cell_type": "code",
   "execution_count": null,
   "id": "675cad0f",
   "metadata": {},
   "outputs": [],
   "source": [
    "import pandas as pd\n",
    "import numpy as np\n",
    "df = pd.read_csv(\"COVID-19BehaviorData_CAN2022.csv\", low_memory=False)\n",
    "df.info()"
   ]
  },
  {
   "cell_type": "markdown",
   "id": "b235cccd",
   "metadata": {},
   "source": [
    "### **3. Data Cleaning and Preprocessing**\n",
    "#### **Whitespace and Placeholder Cleanup**"
   ]
  },
  {
   "cell_type": "markdown",
   "id": "caa7c334",
   "metadata": {},
   "source": [
    "To standardize the dataset, remove whitespaces and convert placeholder values like empty strings to NaN:"
   ]
  },
  {
   "cell_type": "code",
   "execution_count": null,
   "id": "e6f975ec",
   "metadata": {},
   "outputs": [],
   "source": [
    "df1 = df.map(lambda x: x.strip() if isinstance(x, str) else x)\n",
    "df1.replace(['', '__NA__'], np.nan, inplace=True)"
   ]
  },
  {
   "cell_type": "markdown",
   "id": "bbdd6805",
   "metadata": {},
   "source": [
    "#### **Column Filtering**"
   ]
  },
  {
   "cell_type": "markdown",
   "id": "0a290808",
   "metadata": {},
   "source": [
    "Columns with more than 45% missing values are dropped:"
   ]
  },
  {
   "cell_type": "code",
   "execution_count": null,
   "id": "9d3af482",
   "metadata": {},
   "outputs": [],
   "source": [
    "df_cleaned = df1.dropna(axis=1, thresh=len(df1)*0.55)"
   ]
  },
  {
   "cell_type": "markdown",
   "id": "6a204ec4",
   "metadata": {},
   "source": [
    "### **4. Applying Metadata Instructions for Value Mapping**"
   ]
  },
  {
   "cell_type": "markdown",
   "id": "60265714",
   "metadata": {},
   "source": [
    "Load the ins.xlsx file, which contains mappings for transforming categorical values into standardized numeric formats:"
   ]
  },
  {
   "cell_type": "code",
   "execution_count": null,
   "id": "8adcd456",
   "metadata": {},
   "outputs": [],
   "source": [
    "ins = pd.read_excel(\"ins.xlsx\")\n",
    "ins.replace(np.nan, '', inplace=True)"
   ]
  },
  {
   "cell_type": "markdown",
   "id": "b071b04e",
   "metadata": {},
   "source": [
    "Locate valid value mappings and apply them: "
   ]
  },
  {
   "cell_type": "code",
   "execution_count": null,
   "id": "4ee52969",
   "metadata": {},
   "outputs": [],
   "source": [
    "def filter_valid_col(col, val):\n",
    "    return [index for index in col if (index + 5) in val]\n",
    "\n",
    "def find_value(col_id, value, ins_data):\n",
    "    vvi = col_id + 5\n",
    "    while vvi < len(ins_data) and ins_data.iloc[vvi, 2] != '':\n",
    "        if value == ins_data.iloc[vvi, 2]:\n",
    "            return int(ins_data.iloc[vvi, 1])\n",
    "        vvi += 1\n",
    "    return value\n",
    "\n",
    "def filler(oridata, columnidlist, ins_data):\n",
    "    for index in columnidlist:\n",
    "        column_name = ins_data.iloc[index, 0]\n",
    "        oridata[column_name] = oridata[column_name].apply(\n",
    "            lambda x: find_value(index, x, ins_data) if pd.notna(x) else x)"
   ]
  },
  {
   "cell_type": "markdown",
   "id": "c31b004b",
   "metadata": {},
   "source": [
    "These functions replace string values with corresponding numeric codes, enabling machine learning compatibility.\n",
    "\n"
   ]
  },
  {
   "cell_type": "markdown",
   "id": "297c6575",
   "metadata": {},
   "source": [
    "### **5. Additional Missing Data Handling**"
   ]
  },
  {
   "cell_type": "markdown",
   "id": "670bc4ac",
   "metadata": {},
   "source": [
    "After replacements, find special cases like \"Don't know\":"
   ]
  },
  {
   "cell_type": "code",
   "execution_count": null,
   "id": "6491f8d4",
   "metadata": {},
   "outputs": [],
   "source": [
    "newdf_nona['household_children'] = newdf_nona['household_children'].replace(\"Don't know\", np.nan)"
   ]
  },
  {
   "cell_type": "markdown",
   "id": "64071a71",
   "metadata": {},
   "source": [
    "Remaining NaN values are imputed using random sampling from non-missing values in the same column:"
   ]
  },
  {
   "cell_type": "code",
   "execution_count": null,
   "id": "90e2789a",
   "metadata": {},
   "outputs": [],
   "source": [
    "def NA_filler(selected_column, data):\n",
    "    for name in selected_column:\n",
    "        possible_values = data[name].dropna().values\n",
    "        data[name] = data[name].apply(lambda x: np.random.choice(possible_values) if pd.isna(x) else x)"
   ]
  },
  {
   "cell_type": "markdown",
   "id": "b01d47b5",
   "metadata": {},
   "source": [
    "### **6. Region Value Normalization**"
   ]
  },
  {
   "cell_type": "markdown",
   "id": "66ccdf9d",
   "metadata": {},
   "source": [
    "Survey responses were incorrectly tagged with UK region names. These are re-indexed numerically:"
   ]
  },
  {
   "cell_type": "code",
   "execution_count": null,
   "id": "dcb18b59",
   "metadata": {},
   "outputs": [],
   "source": [
    "provinces = final_cleaned_data['region'].unique().tolist()\n",
    "final_cleaned_data['region'] = final_cleaned_data['region'].apply(lambda x: provinces.index(x)+1 if isinstance(x, str) else x)"
   ]
  },
  {
   "cell_type": "markdown",
   "id": "07f6587f",
   "metadata": {},
   "source": [
    "### **7. Target Variable Definition and Re-mapping**"
   ]
  },
  {
   "cell_type": "markdown",
   "id": "f19736e2",
   "metadata": {},
   "source": [
    "The vaccination status column vac is simplified into a binary classification task:"
   ]
  },
  {
   "cell_type": "code",
   "execution_count": null,
   "id": "389eceea",
   "metadata": {},
   "outputs": [],
   "source": [
    "df[\"vac\"].replace({2: 1, 3: 2}, inplace=True)"
   ]
  },
  {
   "cell_type": "markdown",
   "id": "9bd6e617",
   "metadata": {},
   "source": [
    "### **8. Exploratory Data Analysis (EDA)**"
   ]
  },
  {
   "cell_type": "markdown",
   "id": "2110b8c3",
   "metadata": {},
   "source": [
    "Visualize class distribution:"
   ]
  },
  {
   "cell_type": "code",
   "execution_count": null,
   "id": "8f26db2b",
   "metadata": {},
   "outputs": [],
   "source": [
    "df[\"vac\"].value_counts().plot(kind='bar', title=\"Vaccination Status\")\n",
    "plt.show()"
   ]
  },
  {
   "cell_type": "markdown",
   "id": "f30e85c2",
   "metadata": {},
   "source": [
    "Generate correlation matrix:"
   ]
  },
  {
   "cell_type": "code",
   "execution_count": null,
   "id": "e2d6b5ff",
   "metadata": {},
   "outputs": [],
   "source": [
    "correlation_matrix = df.select_dtypes(include=['number']).corr()\n",
    "response_correlation = correlation_matrix['vac'].sort_values(ascending=False)\n",
    "print(response_correlation)"
   ]
  },
  {
   "cell_type": "markdown",
   "id": "2102c85c",
   "metadata": {},
   "source": [
    "### **Predictor Selection and Crosstab Analysis**"
   ]
  },
  {
   "cell_type": "markdown",
   "id": "9b7d1beb",
   "metadata": {},
   "source": [
    "Selected predictors:"
   ]
  },
  {
   "cell_type": "code",
   "execution_count": null,
   "id": "21fea0b5",
   "metadata": {},
   "outputs": [],
   "source": [
    "predictors = ['vac7','r1_8','vac_man_1','vac_man_4', 'vac_man_5', 'vac2_7','vac2_3']"
   ]
  },
  {
   "cell_type": "markdown",
   "id": "455242d2",
   "metadata": {},
   "source": [
    "Cross-tab visualization:"
   ]
  },
  {
   "cell_type": "code",
   "execution_count": null,
   "id": "42932910",
   "metadata": {},
   "outputs": [],
   "source": [
    "for predictor in predictors:\n",
    "    crosstab = pd.crosstab(df[predictor], df['vac'])\n",
    "    crosstab.div(crosstab.sum(axis=1), axis=0).plot(kind='bar', stacked=True)\n",
    "    plt.title(f'Crosstab: {predictor} vs vac')\n",
    "    plt.show()"
   ]
  },
  {
   "cell_type": "markdown",
   "id": "ac550d45",
   "metadata": {},
   "source": [
    "### **9. Model Development with K-Nearest Neighbors (KNN)**"
   ]
  },
  {
   "cell_type": "markdown",
   "id": "ffbded98",
   "metadata": {},
   "source": [
    "#### **Train-Test Split**"
   ]
  },
  {
   "cell_type": "code",
   "execution_count": null,
   "id": "5f38dae3",
   "metadata": {},
   "outputs": [],
   "source": [
    "from sklearn.model_selection import train_test_split\n",
    "X = df[predictors]\n",
    "y = df['vac']\n",
    "X_train, X_test, y_train, y_test = train_test_split(X, y, test_size=0.3, random_state=42, stratify=y)"
   ]
  },
  {
   "cell_type": "markdown",
   "id": "1b0fd142",
   "metadata": {},
   "source": [
    "#### **Feature Scaling**"
   ]
  },
  {
   "cell_type": "code",
   "execution_count": null,
   "id": "ff5e8c45",
   "metadata": {},
   "outputs": [],
   "source": [
    "from sklearn.preprocessing import StandardScaler\n",
    "scaler = StandardScaler().fit(X_train)\n",
    "rescaledX_train = scaler.transform(X_train)\n",
    "rescaledX_test = scaler.transform(X_test)"
   ]
  },
  {
   "cell_type": "markdown",
   "id": "c9f78ecb",
   "metadata": {},
   "source": [
    "#### **Model Tuning and Evaluation**"
   ]
  },
  {
   "cell_type": "markdown",
   "id": "53c9a2ce",
   "metadata": {},
   "source": [
    "\n",
    "Using GridSearch with 10-fold Cross-Validation:"
   ]
  },
  {
   "cell_type": "code",
   "execution_count": null,
   "id": "28491344",
   "metadata": {},
   "outputs": [],
   "source": [
    "from sklearn.model_selection import GridSearchCV, KFold\n",
    "from sklearn.neighbors import KNeighborsClassifier\n",
    "k_values = np.arange(1, 80)\n",
    "param_grid = {'n_neighbors': k_values}\n",
    "kfold = KFold(n_splits=10, shuffle=True, random_state=42)\n",
    "grid = GridSearchCV(KNeighborsClassifier(), param_grid, scoring='accuracy', cv=kfold)\n",
    "grid_result = grid.fit(rescaledX_train, y_train)"
   ]
  },
  {
   "cell_type": "markdown",
   "id": "69971944",
   "metadata": {},
   "source": [
    "Plotting accuracy scores:"
   ]
  },
  {
   "cell_type": "code",
   "execution_count": null,
   "id": "bf20bbbc",
   "metadata": {},
   "outputs": [],
   "source": [
    "import matplotlib.pyplot as plt\n",
    "plt.plot(k_values, grid_result.cv_results_['mean_test_score'])\n",
    "plt.xlabel('Number of Neighbors k')\n",
    "plt.ylabel('Accuracy')\n",
    "plt.title('KNN Hyperparameter Tuning')\n",
    "plt.show()"
   ]
  },
  {
   "cell_type": "markdown",
   "id": "57e91b01",
   "metadata": {},
   "source": [
    "### **10. Final Model and Classification Report**"
   ]
  },
  {
   "cell_type": "markdown",
   "id": "ee82719a",
   "metadata": {},
   "source": [
    "Train final model with best k:"
   ]
  },
  {
   "cell_type": "code",
   "execution_count": null,
   "id": "09e2c1ae",
   "metadata": {},
   "outputs": [],
   "source": [
    "best_k = grid_result.best_params_['n_neighbors']\n",
    "model = KNeighborsClassifier(n_neighbors=best_k)\n",
    "model.fit(rescaledX_train, y_train)\n",
    "predictions = model.predict(rescaledX_test)"
   ]
  },
  {
   "cell_type": "markdown",
   "id": "5e77899b",
   "metadata": {},
   "source": [
    "Generate classification summary:"
   ]
  },
  {
   "cell_type": "code",
   "execution_count": null,
   "id": "b636622c",
   "metadata": {},
   "outputs": [],
   "source": [
    "from sklearn.metrics import classification_report, accuracy_score\n",
    "from dmba import classificationSummary\n",
    "print(\"Accuracy:\", accuracy_score(y_test, predictions))\n",
    "classificationSummary(y_test, predictions)\n",
    "print(\"Classification report:\\n\", classification_report(y_test, predictions))"
   ]
  },
  {
   "cell_type": "markdown",
   "id": "c4140165",
   "metadata": {},
   "source": [
    "### **11. Conclusion**\n",
    "This project successfully cleans and preprocesses survey data, engineers features, and applies a robust KNN model to predict COVID-19 vaccination status in a Canadian population. Through careful EDA, imputation, encoding, scaling, and hyperparameter tuning, it achieves a reliable classification pipeline."
   ]
  }
 ],
 "metadata": {
  "language_info": {
   "name": "python"
  }
 },
 "nbformat": 4,
 "nbformat_minor": 5
}
