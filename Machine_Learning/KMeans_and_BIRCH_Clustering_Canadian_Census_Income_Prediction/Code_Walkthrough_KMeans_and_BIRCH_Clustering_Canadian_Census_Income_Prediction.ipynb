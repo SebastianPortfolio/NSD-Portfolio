{
 "cells": [
  {
   "cell_type": "markdown",
   "id": "b78da20d",
   "metadata": {},
   "source": [
    "# **Project Overview: Income Prediction and Clustering of Canadian Census Tracts**\n",
    "\n",
    "This project demonstrates how to use machine learning and clustering techniques to analyze Canadian Census data and predict median household income. The workflow includes:\n",
    "\n",
    "- Data preprocessing and feature engineering  \n",
    "- Correlation analysis and feature selection  \n",
    "- Clustering using KMeans and BIRCH  \n",
    "- Cluster-specific regression modeling  \n",
    "- Evaluation using RMSE and MAE"
   ]
  },
  {
   "cell_type": "markdown",
   "id": "e6ec7a7e",
   "metadata": {},
   "source": [
    "### **1. Data Loading and Initial Cleanup**"
   ]
  },
  {
   "cell_type": "markdown",
   "id": "3607bbfc",
   "metadata": {},
   "source": [
    "Load the 2021 census training dataset and standardize column names for consistency."
   ]
  },
  {
   "cell_type": "code",
   "execution_count": null,
   "id": "2c23d7ac",
   "metadata": {},
   "outputs": [],
   "source": [
    "import pandas as pd\n",
    "import numpy as np\n",
    "\n",
    "# Load census training data\n",
    "data = pd.read_csv(\"CensusCanada2021Training.csv\")\n",
    "\n",
    "# Rename misnamed column\n",
    "data = data.rename(columns={\n",
    "    'Total Households For Period Of Construction Built Between 1981 And 190':\n",
    "    'Total Households For Period Of Construction Built Between 1981 And 1990'\n",
    "})\n"
   ]
  },
  {
   "cell_type": "markdown",
   "id": "0b85ae2e",
   "metadata": {},
   "source": [
    "### **2. Feature Engineering**"
   ]
  },
  {
   "cell_type": "markdown",
   "id": "4291634d",
   "metadata": {},
   "source": [
    "To improve model performance, derive socioeconomic indicators likely to correlate with income:"
   ]
  },
  {
   "cell_type": "code",
   "execution_count": null,
   "id": "4bb93278",
   "metadata": {},
   "outputs": [],
   "source": [
    "# Tenure-related variables\n",
    "data['Pct_Owner'] = (data['Dwellings by Tenure Owner'] / data['Total Households for Tenure']) * 100\n",
    "data['Pct_Renter'] = (data['Dwellings by Tenure Renter'] / data['Total Households for Tenure']) * 100\n",
    "data['Ratio_of_Renters_to_Owner'] = data['Pct_Renter'] / data['Pct_Owner']\n",
    "\n",
    "# Housing age categories\n",
    "data['Pct_Older_House'] = (\n",
    "    data['Total Households For Period Of Construction Built Before 1961'] +\n",
    "    data['Total Households For Period Of Construction Built Between 1961 And 1980']\n",
    ") / data['Total Households For Period Of Construction'] * 100\n",
    "\n",
    "data['Pct_New_House'] = (\n",
    "    data['Total Households For Period Of Construction Built Between 2006 And 2010'] +\n",
    "    data['Total Households For Period Of Construction Built Between 2011 And 2015'] +\n",
    "    data['Total Households For Period Of Construction Built Between 2016 And 2021']\n",
    ") / data['Total Households For Period Of Construction'] * 100\n",
    "\n",
    "data['Ratio_of_Olderhouse_to_Newhouse'] = data['Pct_Older_House'] / data['Pct_New_House']\n",
    "\n",
    "# Structure types\n",
    "data['Total Household for Structure Type'] = (\n",
    "    data['Total Households For Structure Type Houses'] +\n",
    "    data['Total Households For Structure Type Apartment, Building Low And High Rise'] +\n",
    "    data['Total Households For Structure Type Other Dwelling Types']\n",
    ")\n",
    "\n",
    "data['Pct_Structure_Houses'] = data['Total Households For Structure Type Houses'] / data['Total Household for Structure Type']\n",
    "data['Pct_Structure_Apartment'] = data['Total Households For Structure Type Apartment, Building Low And High Rise'] / data['Total Household for Structure Type']\n",
    "\n",
    "# Average household size\n",
    "data['Household_Size'] = data['Total Population'] / data['Total Households']"
   ]
  },
  {
   "cell_type": "markdown",
   "id": "fc62ae15",
   "metadata": {},
   "source": [
    "These features provide meaningful proxies for economic conditions, housing quality, and living arrangements."
   ]
  },
  {
   "cell_type": "markdown",
   "id": "8eebf5c2",
   "metadata": {},
   "source": [
    "### **3. Data Cleaning**"
   ]
  },
  {
   "cell_type": "markdown",
   "id": "ca337cf1",
   "metadata": {},
   "source": [
    "Address missing and infinite values to ensure modeling integrity."
   ]
  },
  {
   "cell_type": "code",
   "execution_count": null,
   "id": "28e98075",
   "metadata": {},
   "outputs": [],
   "source": [
    "data.replace([np.inf, -np.inf], np.nan, inplace=True)\n",
    "data.fillna(data.mean(), inplace=True)"
   ]
  },
  {
   "cell_type": "markdown",
   "id": "bec2eea4",
   "metadata": {},
   "source": [
    "### **4. Feature Selection via Decision Tree**"
   ]
  },
  {
   "cell_type": "markdown",
   "id": "2460c483",
   "metadata": {},
   "source": [
    "Use a Decision Tree Regressor to rank feature importance in predicting the target variable:\n",
    "`Median Household Income (Current Year $)`"
   ]
  },
  {
   "cell_type": "code",
   "execution_count": null,
   "id": "daae5ce2",
   "metadata": {},
   "outputs": [],
   "source": [
    "features = [\n",
    "    'Pct_Owner', 'Pct_Renter', 'Ratio_of_Renters_to_Owner',\n",
    "    'Pct_Older_House', 'Pct_New_House', 'Ratio_of_Olderhouse_to_Newhouse',\n",
    "    'Pct_Structure_Houses', 'Pct_Structure_Apartment', 'Household_Size'\n",
    "]\n",
    "target = 'Median Household Income (Current Year $)'\n",
    "\n",
    "X = data[features]\n",
    "y = data[target]\n",
    "\n",
    "X_train, X_test, y_train, y_test = train_test_split(X, y, test_size=0.3, random_state=42)\n",
    "\n",
    "tree = DecisionTreeRegressor(random_state=42)\n",
    "tree.fit(X_train, y_train)\n",
    "\n",
    "importances = pd.DataFrame({\n",
    "    'Feature': X.columns,\n",
    "    'Importance': tree.feature_importances_\n",
    "}).sort_values(by='Importance', ascending=False)\n",
    "importances"
   ]
  },
  {
   "cell_type": "markdown",
   "id": "3c45370d",
   "metadata": {},
   "source": [
    "### **5. Clustering Analysis (KMeans and BIRCH)**"
   ]
  },
  {
   "cell_type": "markdown",
   "id": "da08de04",
   "metadata": {},
   "source": [
    "Apply KMeans and BIRCH clustering to segment the data into groups of similar census tracts."
   ]
  },
  {
   "cell_type": "code",
   "execution_count": null,
   "id": "5184b9b4",
   "metadata": {},
   "outputs": [],
   "source": [
    "scaler = StandardScaler()\n",
    "X_scaled = scaler.fit_transform(X_train)\n",
    "\n",
    "# KMeans clustering\n",
    "kmeans = KMeans(n_clusters=2, random_state=42)\n",
    "X_train['Cluster'] = kmeans.fit_predict(X_scaled)\n",
    "\n",
    "# BIRCH clustering\n",
    "birch = Birch(n_clusters=2)\n",
    "X_train['Birch_Cluster'] = birch.fit_predict(X_scaled)"
   ]
  },
  {
   "cell_type": "markdown",
   "id": "163c45a4",
   "metadata": {},
   "source": [
    "These clusters serve as subpopulations for tailored modeling in the next stage."
   ]
  },
  {
   "cell_type": "markdown",
   "id": "222f04bf",
   "metadata": {},
   "source": [
    "### **6. Cluster-Based Regression Modeling**"
   ]
  },
  {
   "cell_type": "markdown",
   "id": "c30288b4",
   "metadata": {},
   "source": [
    " Fit Random Forest Regressors within each cluster to predict income more accurately by leveraging local structure."
   ]
  },
  {
   "cell_type": "code",
   "execution_count": null,
   "id": "b6cf540d",
   "metadata": {},
   "outputs": [],
   "source": [
    "results = {}\n",
    "rf = RandomForestRegressor(n_estimators=100, random_state=42)\n",
    "\n",
    "for cluster in X_train['Cluster'].unique():\n",
    "    cluster_mask = X_train['Cluster'] == cluster\n",
    "    rf.fit(X_train[cluster_mask][features], y_train[cluster_mask])\n",
    "    preds = rf.predict(X_test[features])\n",
    "\n",
    "    rmse = mean_squared_error(y_test, preds, squared=False)\n",
    "    mae = mean_absolute_error(y_test, preds)\n",
    "\n",
    "    results[cluster] = {'RMSE': rmse, 'MAE': mae}\n",
    "\n",
    "pd.DataFrame(results)"
   ]
  },
  {
   "cell_type": "markdown",
   "id": "668a6a69",
   "metadata": {},
   "source": [
    "This approach helps reduce error metrics (e.g., RMSE, MAE) by adapting to data heterogeneity."
   ]
  },
  {
   "cell_type": "markdown",
   "id": "6c250162",
   "metadata": {},
   "source": [
    "### **Conclusion**\n",
    "This project showcases how to blend regression and clustering techniques to model socio-economic outcomes from census data. Key takeaways include: Feature engineering from demographic and housing data is essential. Decision trees offer interpretable feature importance scores. Clustering improves model precision by segmenting heterogeneous data. Cluster-based regression provides actionable insights for policy or urban planning."
   ]
  }
 ],
 "metadata": {
  "language_info": {
   "name": "python"
  }
 },
 "nbformat": 4,
 "nbformat_minor": 5
}
