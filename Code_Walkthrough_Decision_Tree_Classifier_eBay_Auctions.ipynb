{
 "cells": [
  {
   "cell_type": "markdown",
   "id": "dd1640e7",
   "metadata": {},
   "source": [
    "## **Project Overview: Predicting eBay Auction Competitiveness using Decision Trees**"
   ]
  },
  {
   "cell_type": "markdown",
   "id": "d1f61d47",
   "metadata": {},
   "source": [
    "### **1. Objective**\n",
    "This project aims to develop and evaluate a supervised learning model to classify whether an eBay auction listing is *competitive* based on various categorical and numerical features. The classification task uses a Decision Tree Classifier, a non-parametric model capable of capturing nonlinear relationships and providing interpretable decision rules."
   ]
  },
  {
   "cell_type": "markdown",
   "id": "258f1199",
   "metadata": {},
   "source": [
    "### **2. Dataset Overview**\n",
    "* Source: `ebayAuctions.xlsx`\n",
    "* Target Variable: `Competitive?` — a binary label indicating whether an auction received sufficient interest (i.e., competitive).\n",
    "* Predictor Variables: Categorical (e.g., `Category`, `Duration`, `Currency`, `endDay`) and numerical (`OpenPrice`, `sellerRating`, etc.)"
   ]
  },
  {
   "cell_type": "code",
   "execution_count": null,
   "id": "848def33",
   "metadata": {},
   "outputs": [],
   "source": [
    "xlsx = pd.ExcelFile('ebayAuctions.xlsx')\n",
    "ebay_df = pd.read_excel(xlsx, sheet_name=1)\n",
    "ebay_df.info()"
   ]
  },
  {
   "cell_type": "markdown",
   "id": "e689323e",
   "metadata": {},
   "source": [
    "### **3. Data Preprocessing**\n",
    "#### **Dummy Encoding**\n",
    "All categorical features were one-hot encoded to convert them into a format suitable for scikit-learn's tree-based models:"
   ]
  },
  {
   "cell_type": "code",
   "execution_count": null,
   "id": "56d27851",
   "metadata": {},
   "outputs": [],
   "source": [
    "df = pd.get_dummies(ebay_df, columns=['Category', 'Currency', 'Duration', 'endDay'], drop_first=False)"
   ]
  },
  {
   "cell_type": "markdown",
   "id": "e66ef5fd",
   "metadata": {},
   "source": [
    "#### **Class Distribution Check**"
   ]
  },
  {
   "cell_type": "code",
   "execution_count": null,
   "id": "7415104b",
   "metadata": {},
   "outputs": [],
   "source": [
    "df[\"Competitive?\"].value_counts().plot(kind='bar')"
   ]
  },
  {
   "cell_type": "markdown",
   "id": "e81f047e",
   "metadata": {},
   "source": [
    "### **4. Correlation Analysis**\n",
    "A correlation matrix was created for numeric predictors to understand potential linear relationships:"
   ]
  },
  {
   "cell_type": "code",
   "execution_count": null,
   "id": "e0946125",
   "metadata": {},
   "outputs": [],
   "source": [
    "numeric_predictors = df.select_dtypes(include=['number'])\n",
    "correlation_matrix = numeric_predictors.corr()"
   ]
  },
  {
   "cell_type": "markdown",
   "id": "aad48ac6",
   "metadata": {},
   "source": [
    "### **5. Model 1: Basic Decision Tree Classifier**\n",
    "#### **Train-Test Split (60/40)**"
   ]
  },
  {
   "cell_type": "code",
   "execution_count": null,
   "id": "205637ca",
   "metadata": {},
   "outputs": [],
   "source": [
    "X = df.drop(columns=['Competitive?'])\n",
    "y = df['Competitive?']\n",
    "X_train, X_test, y_train, y_test = train_test_split(X, y, test_size=0.4, random_state=1)"
   ]
  },
  {
   "cell_type": "markdown",
   "id": "3cb56ca9",
   "metadata": {},
   "source": [
    "#### **Model Training**"
   ]
  },
  {
   "cell_type": "code",
   "execution_count": null,
   "id": "31e81d60",
   "metadata": {},
   "outputs": [],
   "source": [
    "FirstClassTree = DecisionTreeClassifier(min_samples_leaf=50, random_state=1)\n",
    "FirstClassTree.fit(X_train, y_train)"
   ]
  },
  {
   "cell_type": "markdown",
   "id": "a120cf32",
   "metadata": {},
   "source": [
    "#### **Evaluation**\n",
    "* **Accuracy**:"
   ]
  },
  {
   "cell_type": "code",
   "execution_count": null,
   "id": "a2fd5ea3",
   "metadata": {},
   "outputs": [],
   "source": [
    "accuracy_score(y_test, FirstClassTree.predict(X_test))"
   ]
  },
  {
   "cell_type": "markdown",
   "id": "7302a8b7",
   "metadata": {},
   "source": [
    "* **Confusion Matrix**:"
   ]
  },
  {
   "cell_type": "code",
   "execution_count": null,
   "id": "6c76037b",
   "metadata": {},
   "outputs": [],
   "source": [
    "classificationSummary(y_test, FirstClassTree.predict(X_test))"
   ]
  },
  {
   "cell_type": "markdown",
   "id": "3ebbbaf4",
   "metadata": {},
   "source": [
    "#### **Interpretability**"
   ]
  },
  {
   "cell_type": "code",
   "execution_count": null,
   "id": "1573cb8c",
   "metadata": {},
   "outputs": [],
   "source": [
    "tree.plot_tree(FirstClassTree, feature_names=X.columns, class_names=['0', '1'], rounded=True)"
   ]
  },
  {
   "cell_type": "markdown",
   "id": "d14ab794",
   "metadata": {},
   "source": [
    "### **6. Model 2: Enhanced Tree with Feature Engineering**\n",
    "A second version of the model was built with the `ClosePrice` column excluded (as it is a post-auction outcome, not a predictor):"
   ]
  },
  {
   "cell_type": "code",
   "execution_count": null,
   "id": "cc66d35b",
   "metadata": {},
   "outputs": [],
   "source": [
    "AUC.drop(columns=['ClosePrice'], inplace=True)\n",
    "AUC_dummy = pd.get_dummies(AUC, columns=['Category', 'Currency', 'Duration', 'endDay'])"
   ]
  },
  {
   "cell_type": "markdown",
   "id": "9b161cfd",
   "metadata": {},
   "source": [
    "#### **New Train-Test Split**"
   ]
  },
  {
   "cell_type": "code",
   "execution_count": null,
   "id": "4e9c8566",
   "metadata": {},
   "outputs": [],
   "source": [
    "X2 = AUC_dummy.drop(columns=['Competitive?'])\n",
    "y2 = AUC_dummy['Competitive?']\n",
    "X_train2, X_test2, y_train2, y_test2 = train_test_split(X2, y2, test_size=0.4, random_state=1)"
   ]
  },
  {
   "cell_type": "markdown",
   "id": "c408bc56",
   "metadata": {},
   "source": [
    "#### **Training and Evaluation**"
   ]
  },
  {
   "cell_type": "code",
   "execution_count": null,
   "id": "ab97a246",
   "metadata": {},
   "outputs": [],
   "source": [
    "Second_ClassTree = DecisionTreeClassifier(min_samples_leaf=50, random_state=1)\n",
    "Second_ClassTree.fit(X_train2, y_train2)\n",
    "accuracy_score(y_test2, Second_ClassTree.predict(X_test2))\n",
    "classificationSummary(y_test2, Second_ClassTree.predict(X_test2))"
   ]
  },
  {
   "cell_type": "markdown",
   "id": "4d5055ba",
   "metadata": {},
   "source": [
    "### **7. Visual Exploration**\n",
    "To further explore data relationships, scatter plots were used to evaluate the interaction between key numeric features:"
   ]
  },
  {
   "cell_type": "code",
   "execution_count": null,
   "id": "c558e0b5",
   "metadata": {},
   "outputs": [],
   "source": [
    "sns.scatterplot(x=\"sellerRating\", y=\"OpenPrice\", hue=\"Competitive?\", data=AUC)"
   ]
  },
  {
   "cell_type": "markdown",
   "id": "6c688356",
   "metadata": {},
   "source": [
    "Due to skewness and outliers, log-transformed plots were also used:"
   ]
  },
  {
   "cell_type": "code",
   "execution_count": null,
   "id": "58c35f8b",
   "metadata": {},
   "outputs": [],
   "source": [
    "X_resized = np.log10(np.where(AUC_dummy['sellerRating'] == 0, np.nan, AUC_dummy['sellerRating']))\n",
    "Y_resized = np.log10(np.where(AUC_dummy['OpenPrice'] == 0, np.nan, AUC_dummy['OpenPrice']))"
   ]
  },
  {
   "cell_type": "markdown",
   "id": "0572b687",
   "metadata": {},
   "source": [
    "### **8. Final Model Representation**\n",
    "The final tree structure was visualized using both textual and graphical formats:"
   ]
  },
  {
   "cell_type": "code",
   "execution_count": null,
   "id": "7e55eb8c",
   "metadata": {},
   "outputs": [],
   "source": [
    "tree.plot_tree(Second_ClassTree, feature_names=X2.columns, class_names=['0', '1'], rounded=True)"
   ]
  },
  {
   "cell_type": "markdown",
   "id": "a9f947bd",
   "metadata": {},
   "source": [
    "### **9. Conclusion**\n",
    "This project demonstrated how to build interpretable classification models using decision trees on eBay auction data. Key takeaways include:\n",
    "\n",
    "* The dataset was clean and balanced, allowing for straightforward preprocessing.\n",
    "* Categorical variables were effectively handled via one-hot encoding.\n",
    "* The decision tree model with `min_samples_leaf=50` generalized well on the test set.\n",
    "* Visual and textual tree representations enhanced model transparency.\n",
    "* Feature engineering (e.g., dropping post-outcome variables) helped refine model fairness and relevance."
   ]
  }
 ],
 "metadata": {
  "language_info": {
   "name": "python"
  }
 },
 "nbformat": 4,
 "nbformat_minor": 5
}
