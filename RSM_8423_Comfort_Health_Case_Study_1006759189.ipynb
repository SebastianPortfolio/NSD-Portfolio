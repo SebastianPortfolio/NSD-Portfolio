{
 "cells": [
  {
   "cell_type": "markdown",
   "id": "23a3e81c",
   "metadata": {},
   "source": [
    "# ComfortHealth Strategic Plan Optimization\n",
    "\n",
    "## Executive Summary\n",
    "\n",
    "ComfortHealth, facing rising demand due to an aging population and enhanced governmental support, aims to strategically optimize its workforce and operational resources for 2023-2025. The proposed strategy includes opening two new medical centers (E and F) to meet regional demand, significant initial hiring efforts to scale workforce capacity quickly, and selective patient acceptance to balance profitability and service quality. The forecasted total revenue and total costs yield an expected net loss of $27,540,000, highlighting the need for ongoing operational adjustments and cost management.\n",
    "\n",
    "## Introduction\n",
    "\n",
    "ComfortHealth is a Canadian home care agency experiencing increased demand from demographic changes and governmental incentives. This report outlines a strategic hiring and allocation plan over the next three years, focusing on operational efficiency, cost control, and high-quality service provision.\n",
    "\n",
    "\n",
    "## Mathematical Model\n",
    "\n",
    "### Decision Variables\n",
    "- \\( w_{i,j,y} \\): Binary decision indicating if region \\( j \\) is serviced by center \\( i \\) during year \\( y \\).\n",
    "- \\( H_{i,y} \\): Integer decision indicating the number of HPs hired at center \\( i \\) in year \\( y \\).\n",
    "- \\( O_{i,y} \\): Binary decision indicating if center \\( i \\) is operational in year \\( y \\) (1 if open, 0 otherwise).\n",
    "\n",
    "### Parameters\n",
    "- Reimbursement rate per service hour: \\(\\$42\\)\n",
    "- HP base hourly wage (2023): \\(\\$37.85\\), increasing by 2.5\\% annually\n",
    "- Transportation cost per kilometer: \\(\\$0.25\\)\n",
    "- Cost of hiring one HP: \\(\\$15,000\\)\n",
    "- HP annual work hours: \\(1,500\\)\n",
    "- Maximum annual HP hires per center: \\(300\\)\n",
    "- Maximum operational capacity per center: Given by the dataset\n",
    "\n",
    "### Objective Function\n",
    "Maximize total net profit over the planning horizon:\n",
    "$\n",
    "\\text{Profit} = \\sum_{i,j,y} \\text{Demand}_{j,y} \\times \\left[42 - 37.85 \\times (1.025)^{(y-2023)} - 0.25 \\times \\text{Distance}_{i,j}\\right] \\times w_{i,j,y} - \\sum_{i,y} \\left(15000 \\times H_{i,y} + \\text{Operating Cost}_i \\times O_{i,y}\\right)\n",
    "$\n",
    "\n",
    "### Constraints\n",
    "\n",
    "1\\. **Regional Service Allocation:** Each region is serviced exactly once per year.\n",
    "$\n",
    "\\sum_{i} w_{i,j,y} = 1 \\quad \\forall j, y\n",
    "$\n",
    "\n",
    "2\\. **HP Hour Availability:** Service hours allocated to a center cannot exceed its HP workforce capacity (existing plus new hires).\n",
    "$\n",
    "\\sum_{j} \\text{Demand}_{j,y} \\times w_{i,j,y} \\leq 1500 \\times \\left(\\text{Initial HPs}_i + \\sum_{y' \\leq y} H_{i,y'}\\right) \\quad \\forall i,y\n",
    "$\n",
    "\n",
    "3\\. **Annual Hiring Limit:** Each center can hire no more than 300 HPs per year.\n",
    "$\n",
    "H_{i,y} \\leq 300 \\quad \\forall i,y\n",
    "$\n",
    "\n",
    "4\\. **Center Capacity Constraint:** Allocated service hours must not exceed the maximum capacity of a center.\n",
    "$\n",
    "\\sum_{j} \\text{Demand}_{j,y} \\times w_{i,j,y} \\leq \\text{Capacity}_i \\times O_{i,y} \\quad \\forall i,y\n",
    "$\n",
    "\n",
    "5\\. **Operational Continuity:** Once a center is closed, it cannot reopen in subsequent years.\n",
    "$\n",
    "O_{i,y-1} \\geq O_{i,y} \\quad \\forall i, y \\geq 2024\n",
    "$\n"
   ]
  },
  {
   "cell_type": "code",
   "execution_count": 17,
   "id": "ee02ae1d",
   "metadata": {},
   "outputs": [],
   "source": [
    "# Importing Libraries\n",
    "import pandas as pd\n",
    "import pulp"
   ]
  },
  {
   "cell_type": "code",
   "execution_count": 18,
   "id": "12680ddd",
   "metadata": {},
   "outputs": [],
   "source": [
    "# Loading datasets\n",
    "historical_demands = pd.read_csv('demands.csv')\n",
    "distances = pd.read_csv('distances.csv')\n",
    "centers = pd.read_csv('centers.csv')"
   ]
  },
  {
   "cell_type": "code",
   "execution_count": 19,
   "id": "74e846c4",
   "metadata": {},
   "outputs": [],
   "source": [
    "# Forecasting future demands (simple linear growth assumption)\n",
    "forecast_years = [2023, 2024, 2025]\n",
    "regions_list = historical_demands['Region'].unique().tolist()\n",
    "forecast_demands = []"
   ]
  },
  {
   "cell_type": "code",
   "execution_count": 20,
   "id": "72f3ca14",
   "metadata": {},
   "outputs": [],
   "source": [
    "for region in regions_list:\n",
    "    region_data = historical_demands[historical_demands['Region'] == region]\n",
    "    recent_years = region_data['Year']\n",
    "    recent_demands = region_data['Demand']\n",
    "    growth_rate = (recent_demands.iloc[-1] - recent_demands.iloc[0]) / (recent_years.iloc[-1] - recent_years.iloc[0])\n",
    "    last_demand = recent_demands.iloc[-1]\n",
    "    for year in forecast_years:\n",
    "        years_since_last = year - recent_years.iloc[-1]\n",
    "        forecasted_demand = last_demand + growth_rate * years_since_last\n",
    "        forecast_demands.append([region, year, forecasted_demand])\n",
    "\n",
    "demands = pd.DataFrame(forecast_demands, columns=['Region', 'Year', 'Demand'])"
   ]
  },
  {
   "cell_type": "code",
   "execution_count": 21,
   "id": "652728e2",
   "metadata": {},
   "outputs": [],
   "source": [
    "# Problem definition\n",
    "model = pulp.LpProblem(\"ComfortHealth_Profit_Maximization\", pulp.LpMaximize)"
   ]
  },
  {
   "cell_type": "code",
   "execution_count": 22,
   "id": "62e61df3",
   "metadata": {},
   "outputs": [],
   "source": [
    "# Sets\n",
    "centers_list = centers['Center'].tolist()"
   ]
  },
  {
   "cell_type": "code",
   "execution_count": 23,
   "id": "5d46a705",
   "metadata": {},
   "outputs": [],
   "source": [
    "# Constants\n",
    "annual_hp_hours = 1500\n",
    "annual_salary_increase = 1.025\n",
    "hiring_cost = 15000"
   ]
  },
  {
   "cell_type": "code",
   "execution_count": 24,
   "id": "177d7993",
   "metadata": {},
   "outputs": [],
   "source": [
    "# Variables\n",
    "w = pulp.LpVariable.dicts('w', [(i, j, y) for i in centers_list for j in regions_list for y in forecast_years], cat='Binary')\n",
    "H = pulp.LpVariable.dicts('H', [(i, y) for i in centers_list for y in forecast_years], lowBound=0, cat='Integer')\n",
    "O = pulp.LpVariable.dicts('O', [(i, y) for i in centers_list for y in forecast_years], cat='Binary')"
   ]
  },
  {
   "cell_type": "code",
   "execution_count": 25,
   "id": "d6c427a8",
   "metadata": {},
   "outputs": [],
   "source": [
    "# Objective function\n",
    "model += pulp.lpSum([\n",
    "    demands.loc[(demands['Region'] == j) & (demands['Year'] == y), 'Demand'].values[0] * (\n",
    "        42 - 37.85 * (annual_salary_increase ** (y - min(forecast_years))) -\n",
    "        distances.loc[(distances['origin'] == i) & (distances['destination'] == j), 'distance'].values[0] * 0.25\n",
    "    ) * w[i, j, y]\n",
    "    for i in centers_list for j in regions_list for y in forecast_years\n",
    "    if not distances[(distances['origin'] == i) & (distances['destination'] == j)].empty\n",
    "]) - pulp.lpSum([\n",
    "    hiring_cost * H[i, y] + centers.loc[centers['Center'] == i, 'Operating Costs'].values[0] * O[i, y]\n",
    "    for i in centers_list for y in forecast_years\n",
    "])"
   ]
  },
  {
   "cell_type": "code",
   "execution_count": 26,
   "id": "ed4ddcab",
   "metadata": {},
   "outputs": [],
   "source": [
    "# Constraints\n",
    "for j in regions_list:\n",
    "    for y in forecast_years:\n",
    "        model += pulp.lpSum([w[i, j, y] for i in centers_list]) == 1"
   ]
  },
  {
   "cell_type": "code",
   "execution_count": 27,
   "id": "1d80e4ce",
   "metadata": {},
   "outputs": [],
   "source": [
    "for i in centers_list:\n",
    "    initial_hp = centers.loc[centers['Center'] == i, 'Num MPs'].values[0]\n",
    "    for y in forecast_years:\n",
    "        model += pulp.lpSum([\n",
    "            demands.loc[(demands['Region'] == j) & (demands['Year'] == y), 'Demand'].values[0] * w[i, j, y]\n",
    "            for j in regions_list\n",
    "        ]) <= annual_hp_hours * (initial_hp + pulp.lpSum([H[i, yy] for yy in forecast_years if yy <= y]))"
   ]
  },
  {
   "cell_type": "code",
   "execution_count": 28,
   "id": "5625bae1",
   "metadata": {},
   "outputs": [],
   "source": [
    "for i in centers_list:\n",
    "    for y in forecast_years:\n",
    "        model += pulp.lpSum([H[i, y]]) <= 300"
   ]
  },
  {
   "cell_type": "code",
   "execution_count": 29,
   "id": "64976709",
   "metadata": {},
   "outputs": [],
   "source": [
    "for i in centers_list:\n",
    "    for y in forecast_years:\n",
    "        capacity = centers.loc[centers['Center'] == i, 'Maximum capacity'].values[0]\n",
    "        model += pulp.lpSum([\n",
    "            demands.loc[(demands['Region'] == j) & (demands['Year'] == y), 'Demand'].values[0] * w[i, j, y]\n",
    "            for j in regions_list\n",
    "        ]) <= capacity * O[i, y]"
   ]
  },
  {
   "cell_type": "code",
   "execution_count": 30,
   "id": "777af698",
   "metadata": {},
   "outputs": [],
   "source": [
    "for i in centers_list:\n",
    "    for idx, y in enumerate(sorted(forecast_years)[1:], start=1):\n",
    "        model += O[i, sorted(forecast_years)[idx - 1]] >= O[i, y]"
   ]
  },
  {
   "cell_type": "code",
   "execution_count": 31,
   "id": "1a6f580f",
   "metadata": {},
   "outputs": [
    {
     "name": "stdout",
     "output_type": "stream",
     "text": [
      "Welcome to the CBC MILP Solver \n",
      "Version: 2.10.3 \n",
      "Build Date: Dec 15 2019 \n",
      "\n",
      "command line - /opt/conda/lib/python3.11/site-packages/pulp/solverdir/cbc/linux/64/cbc /tmp/a5e5ad3166254d29a0d8cfe7a7614e8c-pulp.mps -max -sec 60 -timeMode elapsed -branch -printingOptions all -solution /tmp/a5e5ad3166254d29a0d8cfe7a7614e8c-pulp.sol (default strategy 1)\n",
      "At line 2 NAME          MODEL\n",
      "At line 3 ROWS\n",
      "At line 92 COLUMNS\n",
      "At line 927 RHS\n",
      "At line 1015 BOUNDS\n",
      "At line 1178 ENDATA\n",
      "Problem MODEL has 87 rows, 162 columns and 474 elements\n",
      "Coin0008I MODEL read with 0 errors\n",
      "seconds was changed from 1e+100 to 60\n",
      "Option for timeMode changed from cpu to elapsed\n",
      "Continuous objective value is -2.36956e+07 - 0.00 seconds\n",
      "Cgl0003I 0 fixed, 0 tightened bounds, 22 strengthened rows, 0 substitutions\n",
      "Cgl0003I 0 fixed, 0 tightened bounds, 10 strengthened rows, 0 substitutions\n",
      "Cgl0003I 0 fixed, 0 tightened bounds, 9 strengthened rows, 0 substitutions\n",
      "Cgl0003I 0 fixed, 0 tightened bounds, 11 strengthened rows, 0 substitutions\n",
      "Cgl0003I 0 fixed, 0 tightened bounds, 9 strengthened rows, 0 substitutions\n",
      "Cgl0003I 0 fixed, 0 tightened bounds, 9 strengthened rows, 0 substitutions\n",
      "Cgl0003I 0 fixed, 0 tightened bounds, 7 strengthened rows, 0 substitutions\n",
      "Cgl0003I 0 fixed, 0 tightened bounds, 3 strengthened rows, 0 substitutions\n",
      "Cgl0003I 0 fixed, 0 tightened bounds, 1 strengthened rows, 0 substitutions\n",
      "Cgl0004I processed model has 69 rows, 156 columns (156 integer (138 of which binary)) and 450 elements\n",
      "Cutoff increment increased from 1e-05 to 5000\n",
      "Cbc0038I Initial state - 33 integers unsatisfied sum - 6.28676\n",
      "Cbc0038I Pass   1: suminf.    3.51330 (19) obj. 2.91549e+07 iterations 36\n",
      "Cbc0038I Solution found of 3.15102e+07\n",
      "Cbc0038I Branch and bound needed to clear up 7 general integers\n",
      "Cbc0038I Full problem 69 rows 156 columns, reduced to 8 rows 14 columns\n",
      "Cbc0038I Cleaned solution of 3.156e+07\n",
      "Cbc0038I Before mini branch and bound, 118 integers at bound fixed and 0 continuous of which 4 were internal integer and 0 internal continuous\n",
      "Cbc0038I Full problem 69 rows 156 columns, reduced to 6 rows 7 columns\n",
      "Cbc0038I Mini branch and bound did not improve solution (0.02 seconds)\n",
      "Cbc0038I Round again with cutoff of 3.0913e+07\n",
      "Cbc0038I Pass   2: suminf.    3.51330 (19) obj. 2.91549e+07 iterations 0\n",
      "Cbc0038I Pass   3: suminf.    1.85261 (9) obj. 3.0913e+07 iterations 21\n",
      "Cbc0038I Pass   4: suminf.    2.43010 (10) obj. 3.0913e+07 iterations 17\n",
      "Cbc0038I Pass   5: suminf.    2.22828 (10) obj. 3.0913e+07 iterations 4\n",
      "Cbc0038I Pass   6: suminf.    1.85261 (10) obj. 3.0913e+07 iterations 14\n",
      "Cbc0038I Pass   7: suminf.    5.54349 (17) obj. 3.0913e+07 iterations 38\n",
      "Cbc0038I Pass   8: suminf.    2.80205 (14) obj. 3.0913e+07 iterations 20\n",
      "Cbc0038I Pass   9: suminf.    2.80205 (14) obj. 3.0913e+07 iterations 0\n",
      "Cbc0038I Pass  10: suminf.    2.39076 (10) obj. 3.0913e+07 iterations 15\n",
      "Cbc0038I Pass  11: suminf.    2.39076 (10) obj. 3.0913e+07 iterations 4\n",
      "Cbc0038I Pass  12: suminf.    1.90419 (9) obj. 3.0913e+07 iterations 9\n",
      "Cbc0038I Pass  13: suminf.    1.81494 (9) obj. 3.0913e+07 iterations 3\n",
      "Cbc0038I Pass  14: suminf.    2.39076 (10) obj. 3.0913e+07 iterations 15\n",
      "Cbc0038I Pass  15: suminf.    7.29868 (21) obj. 3.0913e+07 iterations 31\n",
      "Cbc0038I Pass  16: suminf.    3.42230 (15) obj. 3.0913e+07 iterations 22\n",
      "Cbc0038I Pass  17: suminf.    2.46827 (10) obj. 3.0913e+07 iterations 19\n",
      "Cbc0038I Pass  18: suminf.    2.10292 (11) obj. 3.0913e+07 iterations 21\n",
      "Cbc0038I Pass  19: suminf.    3.30385 (14) obj. 3.0913e+07 iterations 21\n",
      "Cbc0038I Pass  20: suminf.    3.30385 (14) obj. 3.0913e+07 iterations 0\n",
      "Cbc0038I Pass  21: suminf.    3.20362 (15) obj. 3.0913e+07 iterations 16\n",
      "Cbc0038I Pass  22: suminf.    3.02396 (13) obj. 3.0913e+07 iterations 6\n",
      "Cbc0038I Pass  23: suminf.    3.18387 (13) obj. 3.0913e+07 iterations 18\n",
      "Cbc0038I Pass  24: suminf.    2.06087 (11) obj. 3.0913e+07 iterations 12\n",
      "Cbc0038I Pass  25: suminf.    1.81479 (11) obj. 3.0913e+07 iterations 1\n",
      "Cbc0038I Pass  26: suminf.    3.23004 (12) obj. 3.0913e+07 iterations 13\n",
      "Cbc0038I Pass  27: suminf.    4.93179 (19) obj. 3.0913e+07 iterations 31\n",
      "Cbc0038I Pass  28: suminf.    3.30434 (14) obj. 3.0913e+07 iterations 20\n",
      "Cbc0038I Pass  29: suminf.    1.76438 (15) obj. 3.0913e+07 iterations 11\n",
      "Cbc0038I Pass  30: suminf.    1.76095 (12) obj. 3.0913e+07 iterations 12\n",
      "Cbc0038I Pass  31: suminf.    1.60663 (9) obj. 3.0913e+07 iterations 15\n",
      "Cbc0038I No solution found this major pass\n",
      "Cbc0038I Before mini branch and bound, 73 integers at bound fixed and 0 continuous of which 2 were internal integer and 0 internal continuous\n",
      "Cbc0038I Mini branch and bound did not improve solution (0.04 seconds)\n",
      "Cbc0038I After 0.04 seconds - Feasibility pump exiting with objective of 3.156e+07 - took 0.03 seconds\n",
      "Cbc0012I Integer solution of 31560000 found by feasibility pump after 0 iterations and 0 nodes (0.04 seconds)\n",
      "Cbc0038I Full problem 69 rows 156 columns, reduced to 7 rows 9 columns\n",
      "Cbc0012I Integer solution of 28755000 found by DiveCoefficient after 9870 iterations and 0 nodes (0.64 seconds)\n",
      "Cbc0031I 36 added rows had average density of 69.972222\n",
      "Cbc0013I At root node, 36 cuts changed objective from 25135356 to 27487009 in 100 passes\n",
      "Cbc0014I Cut generator 0 (Probing) - 279 row cuts average 4.3 elements, 0 column cuts (0 active)  in 0.053 seconds - new frequency is 1\n",
      "Cbc0014I Cut generator 1 (Gomory) - 1580 row cuts average 124.3 elements, 0 column cuts (0 active)  in 0.067 seconds - new frequency is 1\n",
      "Cbc0014I Cut generator 2 (Knapsack) - 43 row cuts average 2.9 elements, 0 column cuts (0 active)  in 0.030 seconds - new frequency is 1\n",
      "Cbc0014I Cut generator 3 (Clique) - 0 row cuts average 0.0 elements, 0 column cuts (0 active)  in 0.002 seconds - new frequency is -100\n",
      "Cbc0014I Cut generator 4 (MixedIntegerRounding2) - 713 row cuts average 13.1 elements, 0 column cuts (0 active)  in 0.039 seconds - new frequency is 1\n",
      "Cbc0014I Cut generator 5 (FlowCover) - 25 row cuts average 2.2 elements, 0 column cuts (0 active)  in 0.018 seconds - new frequency is -100\n",
      "Cbc0014I Cut generator 6 (TwoMirCuts) - 915 row cuts average 16.6 elements, 0 column cuts (0 active)  in 0.015 seconds - new frequency is 1\n",
      "Cbc0010I After 0 nodes, 1 on tree, 28755000 best solution, best possible 27487009 (0.68 seconds)\n",
      "Cbc0012I Integer solution of 28395000 found by DiveCoefficient after 11035 iterations and 4 nodes (0.75 seconds)\n",
      "Cbc0012I Integer solution of 27975000 found by rounding after 12477 iterations and 45 nodes (0.89 seconds)\n",
      "Cbc0004I Integer solution of 27630000 found after 12485 iterations and 49 nodes (0.89 seconds)\n",
      "Cbc0012I Integer solution of 27600000 found by rounding after 12681 iterations and 59 nodes (0.90 seconds)\n",
      "Cbc0004I Integer solution of 27555000 found after 12766 iterations and 66 nodes (0.91 seconds)\n",
      "Cbc0038I Full problem 69 rows 156 columns, reduced to 33 rows 54 columns\n",
      "Cbc0038I Full problem 69 rows 156 columns, reduced to 31 rows 51 columns\n",
      "Cbc0038I Full problem 69 rows 156 columns, reduced to 25 rows 42 columns\n",
      "Cbc0038I Full problem 69 rows 156 columns, reduced to 24 rows 35 columns\n",
      "Cbc0038I Full problem 69 rows 156 columns, reduced to 24 rows 38 columns\n",
      "Cbc0038I Full problem 69 rows 156 columns, reduced to 27 rows 41 columns\n",
      "Cbc0010I After 1000 nodes, 89 on tree, 27555000 best solution, best possible 27487009 (4.62 seconds)\n",
      "Cbc0016I Integer solution of 27540000 found by strong branching after 50083 iterations and 1009 nodes (4.63 seconds)\n",
      "Cbc0038I Full problem 69 rows 156 columns, reduced to 25 rows 36 columns\n",
      "Cbc0010I After 2000 nodes, 153 on tree, 27540000 best solution, best possible 27487009 (5.90 seconds)\n",
      "Cbc0038I Full problem 69 rows 156 columns, reduced to 31 rows 41 columns\n",
      "Cbc0038I Full problem 69 rows 156 columns, reduced to 37 rows 54 columns\n",
      "Cbc0038I Full problem 69 rows 156 columns, reduced to 32 rows 48 columns\n",
      "Cbc0010I After 3000 nodes, 83 on tree, 27540000 best solution, best possible 27487009 (6.88 seconds)\n",
      "Cbc0001I Search completed - best objective 27540000, took 348313 iterations and 119356 nodes (7.86 seconds)\n",
      "Cbc0032I Strong branching done 14048 times (108988 iterations), fathomed 132 nodes and fixed 748 variables\n",
      "Cbc0041I Maximum depth 35, 4610 variables fixed on reduced cost (complete fathoming 16 times, 115373 nodes taking 213453 iterations)\n",
      "Cuts at root node changed objective from 2.51354e+07 to 2.7487e+07\n",
      "Probing was tried 1889 times and created 4831 cuts of which 0 were active after adding rounds of cuts (0.213 seconds)\n",
      "Gomory was tried 1864 times and created 4909 cuts of which 0 were active after adding rounds of cuts (0.289 seconds)\n",
      "Knapsack was tried 1867 times and created 851 cuts of which 0 were active after adding rounds of cuts (0.327 seconds)\n",
      "Clique was tried 100 times and created 0 cuts of which 0 were active after adding rounds of cuts (0.002 seconds)\n",
      "MixedIntegerRounding2 was tried 1867 times and created 7899 cuts of which 0 were active after adding rounds of cuts (0.183 seconds)\n",
      "FlowCover was tried 100 times and created 25 cuts of which 0 were active after adding rounds of cuts (0.018 seconds)\n",
      "TwoMirCuts was tried 1864 times and created 10120 cuts of which 0 were active after adding rounds of cuts (0.142 seconds)\n",
      "ZeroHalf was tried 1 times and created 0 cuts of which 0 were active after adding rounds of cuts (0.000 seconds)\n",
      "ImplicationCuts was tried 147 times and created 53 cuts of which 0 were active after adding rounds of cuts (0.007 seconds)\n",
      "\n",
      "Result - Optimal solution found\n",
      "\n",
      "Objective value:                -27540000.00000000\n",
      "Enumerated nodes:               119356\n",
      "Total iterations:               348313\n",
      "Time (CPU seconds):             7.81\n",
      "Time (Wallclock seconds):       7.87\n",
      "\n",
      "Option for printingOptions changed from normal to all\n",
      "Total time (CPU seconds):       7.81   (Wallclock seconds):       7.87\n",
      "\n"
     ]
    },
    {
     "data": {
      "text/plain": [
       "1"
      ]
     },
     "execution_count": 31,
     "metadata": {},
     "output_type": "execute_result"
    }
   ],
   "source": [
    "# Solve model\n",
    "model.solve(pulp.PULP_CBC_CMD(timeLimit=60))"
   ]
  },
  {
   "cell_type": "code",
   "execution_count": 32,
   "id": "d8cb067c",
   "metadata": {},
   "outputs": [],
   "source": [
    "# Results\n",
    "results = []\n",
    "for i in centers_list:\n",
    "    for y in forecast_years:\n",
    "        hired_hps = H[i, y].varValue\n",
    "        open_status = O[i, y].varValue\n",
    "        total_hours = sum(w[i, j, y].varValue * demands.loc[(demands['Region'] == j) & (demands['Year'] == y), 'Demand'].values[0] for j in regions_list)\n",
    "        results.append([i, y, hired_hps, open_status, total_hours])"
   ]
  },
  {
   "cell_type": "code",
   "execution_count": 33,
   "id": "e324ce2a",
   "metadata": {},
   "outputs": [
    {
     "name": "stdout",
     "output_type": "stream",
     "text": [
      "Optimization Results (Forecasted):\n",
      "       Center  Year  Hire HPs  Open Status  Total Assigned Hours\n",
      "0   Center A  2023     280.0          1.0         741764.000000\n",
      "1   Center A  2024       0.0          1.0         727151.555556\n",
      "2   Center A  2025       0.0          1.0         742395.666667\n",
      "3   Center B  2023     164.0          1.0         422022.666667\n",
      "4   Center B  2024       0.0          1.0         417541.222222\n",
      "5   Center B  2025       0.0          1.0         432810.333333\n",
      "6   Center C  2023     270.0          1.0         514142.333333\n",
      "7   Center C  2024       0.0          1.0         533898.666667\n",
      "8   Center C  2025       0.0          1.0         553655.000000\n",
      "9   Center D  2023     204.0          1.0         450820.333333\n",
      "10  Center D  2024       0.0          1.0         480836.777778\n",
      "11  Center D  2025       0.0          1.0         484771.000000\n",
      "12  Center E  2023     300.0          1.0         402272.111111\n",
      "13  Center E  2024      33.0          1.0         467795.666667\n",
      "14  Center E  2025       0.0          1.0         498570.666667\n",
      "15  Center F  2023     291.0          1.0         411361.444444\n",
      "16  Center F  2024       0.0          1.0         426954.888889\n",
      "17  Center F  2025      12.0          1.0         453772.000000\n"
     ]
    }
   ],
   "source": [
    "results_df = pd.DataFrame(results, columns=['Center', 'Year', 'Hire HPs', 'Open Status', 'Total Assigned Hours'])\n",
    "print(\"Optimization Results (Forecasted):\\n\", results_df)"
   ]
  },
  {
   "cell_type": "code",
   "execution_count": 34,
   "id": "71421030",
   "metadata": {},
   "outputs": [
    {
     "name": "stdout",
     "output_type": "stream",
     "text": [
      "Status: Optimal\n",
      "Total Profit: -27540000.0\n"
     ]
    }
   ],
   "source": [
    "print(\"Status:\", pulp.LpStatus[model.status])\n",
    "print(\"Total Profit:\", pulp.value(model.objective))"
   ]
  },
  {
   "cell_type": "markdown",
   "id": "60d3a607",
   "metadata": {},
   "source": [
    "## Detailed Allocation and Hiring Plan\n",
    "\n",
    "### Hiring Strategy\n",
    "The hiring strategy emphasizes heavy recruitment in the first year to manage immediate demand, followed by minimal incremental hiring. Specifically:\n",
    "\n",
    "- **Center A**: Hire 280 HPs in 2023, with no additional hires in subsequent years.\n",
    "- **Center B**: Hire 164 HPs in 2023, with no additional hires in subsequent years.\n",
    "- **Center C**: Hire 270 HPs in 2023, with no additional hires in subsequent years.\n",
    "- **Center D**: Hire 204 HPs in 2023, with no additional hires in subsequent years.\n",
    "- **Center E**: Maximize hiring with 300 HPs in 2023 and a moderate increase of 33 HPs in 2024.\n",
    "- **Center F**: Hire 291 HPs in 2023 and an additional 12 HPs in 2025.\n",
    "\n",
    "### Service Allocation\n",
    "- Allocate HPs based on proximity and cost-effectiveness, ensuring optimal resource use.\n",
    "- Centers \"E\" and \"F\" strategically support high-demand regions, confirming their essential roles in ComfortHealth’s growth strategy.\n",
    "\n",
    "## Financial Overview\n",
    "\n",
    "### Total Revenues\n",
    "Total revenues, are calculated by multiplying the total forecasted service hours (7,715,636 hours) by the government reimbursement rate of 42 dollars per hour.\n",
    "They are approximately $324,042,000.\n",
    "\n",
    "### Total Costs\n",
    "Costs include:\n",
    "- **HP Wage Costs**: \\(\\$37.85\\)\\/hour (2023), increasing annually by 2.5%.\n",
    "- **Travel Costs**: \\(\\$0.25\\)\\/km traveled.\n",
    "- **Hiring Costs**:  \\(\\$15,000\\)/ per newly hired HP.\n",
    "- **Operating Costs**: Annual operational expenses per center (provided in the dataset).\n",
    "\n",
    "With extensive initial hiring and operational expansions, total forecasted costs substantially exceed revenues, leading to an estimated net loss of $27,540,000 over the three-year planning period. This underlines the importance of strategic adjustments, particularly in managing operating efficiency, negotiating improved reimbursement rates, and potentially revising patient acceptance criteria to enhance profitability.\n",
    "\n",
    "\n",
    "## Managerial Questions\n",
    "\n",
    "### 1\\. Should ComfortHealth invest in opening the new medical centers \"E\" and \"F\"?\n",
    "Based on the forecasted optimization results, both centers \"E\" and \"F\" should indeed be opened. Center \"E\" immediately hits the maximum hiring cap (300 HPs) in 2023, showing significant demand justification. Center \"F\" also hires close to the limit, with 291 HPs. The substantial assigned hours at these centers indicate strong regional demand, making their opening economically justified despite the initially negative total profit, as this supports future growth and customer satisfaction.\n",
    "\n",
    "### 2\\. How many HPs should each center hire annually over the next three years?\n",
    "The hiring plan, as suggested by the optimized solution, is as follows:\n",
    "\n",
    "| Center | 2023 | 2024 | 2025 |\n",
    "|--------|------|------|------|\n",
    "| A      | 280  | 0    | 0    |\n",
    "| B      | 164  | 0    | 0    |\n",
    "| C      | 270  | 0    | 0    |\n",
    "| D      | 204  | 0    | 0    |\n",
    "| E      | 300  | 33   | 0    |\n",
    "| F      | 291  | 0    | 12   |\n",
    "\n",
    "This hiring strategy primarily focuses on substantial recruitment in the initial year to accommodate immediate demand, followed by limited incremental hiring as necessary.\n",
    "\n",
    "### 3\\. How should HPs be optimally allocated to service different regions?\n",
    "Each center's HPs should be assigned based on proximity, capacity, and profitability to serve regional demand effectively. The optimization ensures each region is allocated efficiently to the nearest or most cost-effective center, maximizing available resources. For example, Centers \"E\" and \"F\" effectively cover newly emerging regions, indicating strategic alignment with market expansion and demographic shifts.\n",
    "\n",
    "### 4\\. What are the advantages and drawbacks of accepting all patients versus selective acceptance?\n",
    "Accepting all patients ensures maximum community impact, preserves ComfortHealth's reputation, and encourages doctor referrals, which are crucial for sustainable growth. However, this strategy can lead to financial strain, as evidenced by the negative profit (-$27,540,000). Selective acceptance enhances profitability by targeting more economically viable regions but risks negative market perception. To balance these trade-offs, ComfortHealth could strategically accept patients based on profitability and capacity, or negotiate higher reimbursement rates in less profitable regions.\n",
    "\n",
    "### 5\\. How sensitive is the proposed solution to changes in future demand?\n",
    "The proposed solution shows moderate sensitivity to demand fluctuations. If demand significantly exceeds forecasts, ComfortHealth might need rapid scaling, possibly surpassing the annual hiring limit and thus requiring policy adjustments or partnerships to manage overflow. Conversely, if demand falls short of predictions, profitability could improve slightly, though at the risk of under-utilized resources. Regular sensitivity analysis and contingency planning are recommended to enhance the robustness of the strategic plan."
   ]
  }
 ],
 "metadata": {
  "kernelspec": {
   "display_name": "Python 3 (ipykernel)",
   "language": "python",
   "name": "python3"
  },
  "language_info": {
   "codemirror_mode": {
    "name": "ipython",
    "version": 3
   },
   "file_extension": ".py",
   "mimetype": "text/x-python",
   "name": "python",
   "nbconvert_exporter": "python",
   "pygments_lexer": "ipython3",
   "version": "3.11.6"
  }
 },
 "nbformat": 4,
 "nbformat_minor": 5
}
